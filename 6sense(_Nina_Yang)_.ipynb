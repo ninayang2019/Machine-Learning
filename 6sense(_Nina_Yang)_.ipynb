{
  "nbformat": 4,
  "nbformat_minor": 0,
  "metadata": {
    "colab": {
      "name": "6sense take home( Nina Yang) .ipynb",
      "provenance": [],
      "include_colab_link": true
    },
    "kernelspec": {
      "name": "python3",
      "display_name": "Python 3"
    }
  },
  "cells": [
    {
      "cell_type": "markdown",
      "metadata": {
        "id": "view-in-github",
        "colab_type": "text"
      },
      "source": [
        "<a href=\"https://colab.research.google.com/github/ninayang2019/Machine-Learning/blob/master/6sense_take_home(_Nina_Yang)_.ipynb\" target=\"_parent\"><img src=\"https://colab.research.google.com/assets/colab-badge.svg\" alt=\"Open In Colab\"/></a>"
      ]
    },
    {
      "cell_type": "markdown",
      "metadata": {
        "id": "NSlwIxCSJCcm",
        "colab_type": "text"
      },
      "source": [
        "##Ingest modules and data preperation\n"
      ]
    },
    {
      "cell_type": "code",
      "metadata": {
        "id": "VVCFNEGz6PFq",
        "colab_type": "code",
        "colab": {}
      },
      "source": [
        "import os\n",
        "import pandas as pd\n",
        "import numpy as np\n",
        "from sklearn.linear_model import LogisticRegression\n",
        "from sklearn import metrics\n",
        "from sklearn.ensemble import RandomForestClassifier\n",
        "from xgboost import XGBClassifier\n",
        "\n",
        "# Importing model helpers\n",
        "from sklearn.preprocessing import OneHotEncoder, LabelEncoder\n",
        "from sklearn import feature_selection\n",
        "from sklearn import model_selection\n",
        "from sklearn import metrics\n",
        "from yellowbrick.classifier import ConfusionMatrix\n"
      ],
      "execution_count": 0,
      "outputs": []
    },
    {
      "cell_type": "code",
      "metadata": {
        "id": "sO76Y0Z29Sfs",
        "colab_type": "code",
        "colab": {}
      },
      "source": [
        "df=pd.read_csv('training.tsv',delimiter='\\t',encoding='utf-8',header=None)\n",
        "df.columns = ['ID', 'Date','Event'] #Assign header to dataframe\n",
        "df.head(10)\n",
        "df.isnull().any() #check null value"
      ],
      "execution_count": 0,
      "outputs": []
    },
    {
      "cell_type": "code",
      "metadata": {
        "id": "G-gTNfITs3Wg",
        "colab_type": "code",
        "colab": {
          "base_uri": "https://localhost:8080/",
          "height": 390
        },
        "outputId": "a167746e-faa9-4217-de18-1b4fb53cf748"
      },
      "source": [
        "# Get a new dataframe groupby ID\n",
        "GroupKey='ID'\n",
        "Date = 'Date'\n",
        "Event = 'Event'\n",
        "Event_Steps = ['EmailOpen','EmailClickthrough','FormSubmit','WebVist','PageView','Purchase']\n",
        "\n",
        "def funnelize (group, Event_Steps):\n",
        "    curr = 0\n",
        "    cnts = [0 for s in Event_Steps]\n",
        " \n",
        "    for i,row in group.iterrows():\n",
        "        event = row[Event]\n",
        "        if event in Event_Steps:\n",
        "            idx = Event_Steps.index(event)\n",
        "            cnts[idx] +=1\n",
        "    return cnts\n",
        "\n",
        "df.sort_values(by=Date,ascending=True, inplace=True)\n",
        "Event_Cnts = df.groupby(GroupKey).apply(funnelize,Event_Steps)\n",
        "NewTrain = pd.DataFrame(list(Event_Cnts.values),index = Event_Cnts.index,columns = Event_Steps)\n",
        "NewTrain.head(10)"
      ],
      "execution_count": 29,
      "outputs": [
        {
          "output_type": "execute_result",
          "data": {
            "text/html": [
              "<div>\n",
              "<style scoped>\n",
              "    .dataframe tbody tr th:only-of-type {\n",
              "        vertical-align: middle;\n",
              "    }\n",
              "\n",
              "    .dataframe tbody tr th {\n",
              "        vertical-align: top;\n",
              "    }\n",
              "\n",
              "    .dataframe thead th {\n",
              "        text-align: right;\n",
              "    }\n",
              "</style>\n",
              "<table border=\"1\" class=\"dataframe\">\n",
              "  <thead>\n",
              "    <tr style=\"text-align: right;\">\n",
              "      <th></th>\n",
              "      <th>EmailOpen</th>\n",
              "      <th>EmailClickthrough</th>\n",
              "      <th>FormSubmit</th>\n",
              "      <th>WebVist</th>\n",
              "      <th>PageView</th>\n",
              "      <th>Purchase</th>\n",
              "    </tr>\n",
              "    <tr>\n",
              "      <th>ID</th>\n",
              "      <th></th>\n",
              "      <th></th>\n",
              "      <th></th>\n",
              "      <th></th>\n",
              "      <th></th>\n",
              "      <th></th>\n",
              "    </tr>\n",
              "  </thead>\n",
              "  <tbody>\n",
              "    <tr>\n",
              "      <th>00002acbe042d69</th>\n",
              "      <td>9</td>\n",
              "      <td>0</td>\n",
              "      <td>1</td>\n",
              "      <td>0</td>\n",
              "      <td>0</td>\n",
              "      <td>0</td>\n",
              "    </tr>\n",
              "    <tr>\n",
              "      <th>0000a3a34bd07e6</th>\n",
              "      <td>20</td>\n",
              "      <td>0</td>\n",
              "      <td>0</td>\n",
              "      <td>0</td>\n",
              "      <td>0</td>\n",
              "      <td>0</td>\n",
              "    </tr>\n",
              "    <tr>\n",
              "      <th>0000ecf58c94668</th>\n",
              "      <td>11</td>\n",
              "      <td>1</td>\n",
              "      <td>1</td>\n",
              "      <td>0</td>\n",
              "      <td>0</td>\n",
              "      <td>6</td>\n",
              "    </tr>\n",
              "    <tr>\n",
              "      <th>00012205dd4613b</th>\n",
              "      <td>2</td>\n",
              "      <td>0</td>\n",
              "      <td>0</td>\n",
              "      <td>0</td>\n",
              "      <td>0</td>\n",
              "      <td>0</td>\n",
              "    </tr>\n",
              "    <tr>\n",
              "      <th>000198d39a568cf</th>\n",
              "      <td>0</td>\n",
              "      <td>0</td>\n",
              "      <td>0</td>\n",
              "      <td>0</td>\n",
              "      <td>0</td>\n",
              "      <td>1</td>\n",
              "    </tr>\n",
              "    <tr>\n",
              "      <th>0001b315b991cf0</th>\n",
              "      <td>1</td>\n",
              "      <td>0</td>\n",
              "      <td>0</td>\n",
              "      <td>0</td>\n",
              "      <td>0</td>\n",
              "      <td>0</td>\n",
              "    </tr>\n",
              "    <tr>\n",
              "      <th>00022618457fcf2</th>\n",
              "      <td>0</td>\n",
              "      <td>0</td>\n",
              "      <td>0</td>\n",
              "      <td>0</td>\n",
              "      <td>0</td>\n",
              "      <td>1</td>\n",
              "    </tr>\n",
              "    <tr>\n",
              "      <th>000256826de4432</th>\n",
              "      <td>0</td>\n",
              "      <td>0</td>\n",
              "      <td>0</td>\n",
              "      <td>0</td>\n",
              "      <td>0</td>\n",
              "      <td>1</td>\n",
              "    </tr>\n",
              "    <tr>\n",
              "      <th>000269150971d08</th>\n",
              "      <td>3</td>\n",
              "      <td>0</td>\n",
              "      <td>0</td>\n",
              "      <td>0</td>\n",
              "      <td>0</td>\n",
              "      <td>0</td>\n",
              "    </tr>\n",
              "    <tr>\n",
              "      <th>000297ba4fa5026</th>\n",
              "      <td>8</td>\n",
              "      <td>0</td>\n",
              "      <td>0</td>\n",
              "      <td>0</td>\n",
              "      <td>0</td>\n",
              "      <td>0</td>\n",
              "    </tr>\n",
              "  </tbody>\n",
              "</table>\n",
              "</div>"
            ],
            "text/plain": [
              "                 EmailOpen  EmailClickthrough  ...  PageView  Purchase\n",
              "ID                                             ...                    \n",
              "00002acbe042d69          9                  0  ...         0         0\n",
              "0000a3a34bd07e6         20                  0  ...         0         0\n",
              "0000ecf58c94668         11                  1  ...         0         6\n",
              "00012205dd4613b          2                  0  ...         0         0\n",
              "000198d39a568cf          0                  0  ...         0         1\n",
              "0001b315b991cf0          1                  0  ...         0         0\n",
              "00022618457fcf2          0                  0  ...         0         1\n",
              "000256826de4432          0                  0  ...         0         1\n",
              "000269150971d08          3                  0  ...         0         0\n",
              "000297ba4fa5026          8                  0  ...         0         0\n",
              "\n",
              "[10 rows x 6 columns]"
            ]
          },
          "metadata": {
            "tags": []
          },
          "execution_count": 29
        }
      ]
    },
    {
      "cell_type": "code",
      "metadata": {
        "id": "Gh9v6radIaM6",
        "colab_type": "code",
        "colab": {
          "base_uri": "https://localhost:8080/",
          "height": 105
        },
        "outputId": "44b71506-79fe-44c0-9092-5b6ac5615da2"
      },
      "source": [
        "# Add a new column as target. \n",
        "NewTrain['Target'] = np.where(NewTrain['Purchase']>=1,1, 0)\n",
        "Train = NewTrain.sample(frac=0.7) # Spilit current train dataset to 7:3\n",
        "Test = NewTrain.loc[~NewTrain.index.isin(Train.index)]\n",
        "#Get matrix\n",
        "Train = Train.as_matrix()\n",
        "Test = Test.as_matrix()\n",
        "XTr = Train[:,:-2]\n",
        "YTr = Train[:,-1]\n",
        "XTe = Test[:,:-2]\n",
        "YTe = Test[:,-1]"
      ],
      "execution_count": 31,
      "outputs": [
        {
          "output_type": "stream",
          "text": [
            "/usr/local/lib/python3.6/dist-packages/ipykernel_launcher.py:5: FutureWarning: Method .as_matrix will be removed in a future version. Use .values instead.\n",
            "  \"\"\"\n",
            "/usr/local/lib/python3.6/dist-packages/ipykernel_launcher.py:6: FutureWarning: Method .as_matrix will be removed in a future version. Use .values instead.\n",
            "  \n"
          ],
          "name": "stderr"
        }
      ]
    },
    {
      "cell_type": "markdown",
      "metadata": {
        "id": "GQFX5qLMJIUs",
        "colab_type": "text"
      },
      "source": [
        "## Modeling"
      ]
    },
    {
      "cell_type": "code",
      "metadata": {
        "id": "j_qN2VNpI-tT",
        "colab_type": "code",
        "colab": {
          "base_uri": "https://localhost:8080/",
          "height": 343
        },
        "outputId": "b1742d7a-62b8-4797-9668-ee7e26a0666b"
      },
      "source": [
        "#Logistic Regression\n",
        "model = LogisticRegression()\n",
        "model.fit(XTr, YTr)\n",
        "print(model)\n",
        "predicted = model.predict(XTe)\n",
        "expected = YTe\n",
        "print(metrics.classification_report(expected, predicted))\n",
        "print(metrics.confusion_matrix(expected, predicted))\n",
        "#accuracy score\n",
        "LR_accy_train = round(model.score(XTr,YTr),2)\n",
        "LR_accy = round(model.score(XTe,YTe),2)"
      ],
      "execution_count": 32,
      "outputs": [
        {
          "output_type": "stream",
          "text": [
            "/usr/local/lib/python3.6/dist-packages/sklearn/linear_model/logistic.py:432: FutureWarning: Default solver will be changed to 'lbfgs' in 0.22. Specify a solver to silence this warning.\n",
            "  FutureWarning)\n"
          ],
          "name": "stderr"
        },
        {
          "output_type": "stream",
          "text": [
            "LogisticRegression(C=1.0, class_weight=None, dual=False, fit_intercept=True,\n",
            "                   intercept_scaling=1, l1_ratio=None, max_iter=100,\n",
            "                   multi_class='warn', n_jobs=None, penalty='l2',\n",
            "                   random_state=None, solver='warn', tol=0.0001, verbose=0,\n",
            "                   warm_start=False)\n",
            "              precision    recall  f1-score   support\n",
            "\n",
            "           0       0.70      1.00      0.82     71282\n",
            "           1       0.76      0.02      0.04     31188\n",
            "\n",
            "    accuracy                           0.70    102470\n",
            "   macro avg       0.73      0.51      0.43    102470\n",
            "weighted avg       0.72      0.70      0.59    102470\n",
            "\n",
            "[[71055   227]\n",
            " [30479   709]]\n"
          ],
          "name": "stdout"
        }
      ]
    },
    {
      "cell_type": "code",
      "metadata": {
        "id": "Xk5eni8WJgEh",
        "colab_type": "code",
        "colab": {
          "base_uri": "https://localhost:8080/",
          "height": 142
        },
        "outputId": "7e025eae-056a-4169-c828-456af0569683"
      },
      "source": [
        "#Random Forest\n",
        "forest = RandomForestClassifier(n_estimators = 100)\n",
        "forest = forest.fit(XTr,YTr)\n",
        "output = forest.predict(XTe)\n",
        "output\n",
        "pd.crosstab(YTe, output, rownames=['actual'], colnames=['preds'])\n",
        "#accuracy score\n",
        "RF_accy_train = round(forest.score(XTr,YTr),2)\n",
        "RF_accy = round(forest.score(XTe,YTe),2)"
      ],
      "execution_count": 34,
      "outputs": [
        {
          "output_type": "execute_result",
          "data": {
            "text/html": [
              "<div>\n",
              "<style scoped>\n",
              "    .dataframe tbody tr th:only-of-type {\n",
              "        vertical-align: middle;\n",
              "    }\n",
              "\n",
              "    .dataframe tbody tr th {\n",
              "        vertical-align: top;\n",
              "    }\n",
              "\n",
              "    .dataframe thead th {\n",
              "        text-align: right;\n",
              "    }\n",
              "</style>\n",
              "<table border=\"1\" class=\"dataframe\">\n",
              "  <thead>\n",
              "    <tr style=\"text-align: right;\">\n",
              "      <th>preds</th>\n",
              "      <th>0</th>\n",
              "      <th>1</th>\n",
              "    </tr>\n",
              "    <tr>\n",
              "      <th>actual</th>\n",
              "      <th></th>\n",
              "      <th></th>\n",
              "    </tr>\n",
              "  </thead>\n",
              "  <tbody>\n",
              "    <tr>\n",
              "      <th>0</th>\n",
              "      <td>69404</td>\n",
              "      <td>1878</td>\n",
              "    </tr>\n",
              "    <tr>\n",
              "      <th>1</th>\n",
              "      <td>9789</td>\n",
              "      <td>21399</td>\n",
              "    </tr>\n",
              "  </tbody>\n",
              "</table>\n",
              "</div>"
            ],
            "text/plain": [
              "preds       0      1\n",
              "actual              \n",
              "0       69404   1878\n",
              "1        9789  21399"
            ]
          },
          "metadata": {
            "tags": []
          },
          "execution_count": 34
        }
      ]
    },
    {
      "cell_type": "code",
      "metadata": {
        "id": "lpbHIdAIP3BD",
        "colab_type": "code",
        "colab": {}
      },
      "source": [
        "from yellowbrick.classifier import ConfusionMatrix"
      ],
      "execution_count": 0,
      "outputs": []
    },
    {
      "cell_type": "code",
      "metadata": {
        "id": "Iz3p3AdlNuyE",
        "colab_type": "code",
        "colab": {}
      },
      "source": [
        "#XG Boost\n",
        "xgb = XGBClassifier()\n",
        "xgb.fit(XTr,YTr)\n",
        "\n",
        "y_pred = xgb.predict(XTe)\n",
        "xgb_accy_train = round(xgb.score(XTr,YTr),2)\n",
        "xgb_accy = round(xgb.score(XTe,YTe),2)\n"
      ],
      "execution_count": 0,
      "outputs": []
    },
    {
      "cell_type": "markdown",
      "metadata": {
        "id": "wA8nvMyvWckj",
        "colab_type": "text"
      },
      "source": [
        "## Model Evaluation"
      ]
    },
    {
      "cell_type": "code",
      "metadata": {
        "id": "sXFrH6jAVjTQ",
        "colab_type": "code",
        "colab": {
          "base_uri": "https://localhost:8080/",
          "height": 427
        },
        "outputId": "d570e67e-9d18-4377-81c7-631cfa4300a8"
      },
      "source": [
        "cm_LR = ConfusionMatrix(model, classes=[0,1])\n",
        "cm_LR.fit(XTr,YTr)\n",
        "cm_LR.score(XTe,YTe)\n",
        "cm_LR.poof()"
      ],
      "execution_count": 53,
      "outputs": [
        {
          "output_type": "stream",
          "text": [
            "/usr/local/lib/python3.6/dist-packages/sklearn/linear_model/logistic.py:432: FutureWarning: Default solver will be changed to 'lbfgs' in 0.22. Specify a solver to silence this warning.\n",
            "  FutureWarning)\n"
          ],
          "name": "stderr"
        },
        {
          "output_type": "display_data",
          "data": {
            "image/png": "[encoded data removed]",
            "text/plain": [
              "<Figure size 576x396 with 1 Axes>"
            ]
          },
          "metadata": {
            "tags": []
          }
        }
      ]
    },
    {
      "cell_type": "code",
      "metadata": {
        "id": "4X4zSpyOVrwd",
        "colab_type": "code",
        "colab": {
          "base_uri": "https://localhost:8080/",
          "height": 373
        },
        "outputId": "81656ae0-189f-459d-a2bd-abd5284385d9"
      },
      "source": [
        "cm_RF = ConfusionMatrix(forest, classes=[0,1])\n",
        "cm_RF.fit(XTr,YTr)\n",
        "cm_RF.score(XTe,YTe)\n",
        "cm_RF.poof()"
      ],
      "execution_count": 54,
      "outputs": [
        {
          "output_type": "display_data",
          "data": {
            "image/png": "[encoded data removed]",
            "text/plain": [
              "<Figure size 576x396 with 1 Axes>"
            ]
          },
          "metadata": {
            "tags": []
          }
        }
      ]
    },
    {
      "cell_type": "code",
      "metadata": {
        "id": "KuVt4yULV_Ki",
        "colab_type": "code",
        "colab": {
          "base_uri": "https://localhost:8080/",
          "height": 373
        },
        "outputId": "c52b7320-2bd1-4507-8185-83af287c68ba"
      },
      "source": [
        "cm_xgb = ConfusionMatrix(xgb, classes=[0,1])\n",
        "cm_xgb.fit(XTr,YTr)\n",
        "cm_xgb.score(XTe,YTe)\n",
        "cm_xgb.poof()"
      ],
      "execution_count": 55,
      "outputs": [
        {
          "output_type": "display_data",
          "data": {
            "image/png": "[encoded data removed]",
            "text/plain": [
              "<Figure size 576x396 with 1 Axes>"
            ]
          },
          "metadata": {
            "tags": []
          }
        }
      ]
    },
    {
      "cell_type": "code",
      "metadata": {
        "id": "jBnCLedBQS00",
        "colab_type": "code",
        "colab": {
          "base_uri": "https://localhost:8080/",
          "height": 119
        },
        "outputId": "811697e5-a5c0-49ae-db46-87a1950add04"
      },
      "source": [
        "print('Accuracy of XGB classifier on training set: {:.2f}'.format(xgb_accy_train))\n",
        "print('Accuracy of XGB regression classifier on test set: {:.2f}'.format(xgb_accy))\n",
        "print('Accuracy of Logistic Regression on training set: {:.2f}'.format(LR_accy_train))\n",
        "print('Accuracy of Logistic Regression classifier on test set: {:.2f}'.format(LR_accy))\n",
        "print('Accuracy of Random Forest on training set: {:.2f}'.format(RF_accy_train))\n",
        "print('Accuracy of Random Forest classifier on test set: {:.2f}'.format(RF_accy))"
      ],
      "execution_count": 51,
      "outputs": [
        {
          "output_type": "stream",
          "text": [
            "Accuracy of XGB classifier on training set: 0.89\n",
            "Accuracy of XGB regression classifier on test set: 0.89\n",
            "Accuracy of Logistic Regression on training set: 0.70\n",
            "Accuracy of Logistic Regression classifier on test set: 0.70\n",
            "Accuracy of Random Forest on training set: 0.91\n",
            "Accuracy of Random Forest classifier on test set: 0.89\n"
          ],
          "name": "stdout"
        }
      ]
    },
    {
      "cell_type": "markdown",
      "metadata": {
        "id": "2iVoR-iNvWkZ",
        "colab_type": "text"
      },
      "source": [
        "## Feature ranking"
      ]
    },
    {
      "cell_type": "code",
      "metadata": {
        "id": "VHw_LLX2vY4l",
        "colab_type": "code",
        "colab": {
          "base_uri": "https://localhost:8080/",
          "height": 119
        },
        "outputId": "f5b900f5-a864-43d0-f93a-c57014d102c7"
      },
      "source": [
        "importances = xgb.feature_importances_\n",
        "std = np.std([tree.feature_importances_ for tree in forest.estimators_],\n",
        "             axis=0)\n",
        "indices = np.argsort(importances)[::-1]\n",
        "\n",
        "# Print the feature ranking\n",
        "print(\"Feature ranking:\")\n",
        "for f in range(XTr.shape[1]):\n",
        "    print(\"%d. feature %d (%f)\" % (f +1 , indices[f], importances[indices[f]]))"
      ],
      "execution_count": 89,
      "outputs": [
        {
          "output_type": "stream",
          "text": [
            "Feature ranking:\n",
            "1. feature 0 (0.488086)\n",
            "2. feature 2 (0.380946)\n",
            "3. feature 1 (0.090384)\n",
            "4. feature 4 (0.040585)\n",
            "5. feature 3 (0.000000)\n"
          ],
          "name": "stdout"
        }
      ]
    },
    {
      "cell_type": "markdown",
      "metadata": {
        "id": "sRUE7TBtWtl5",
        "colab_type": "text"
      },
      "source": [
        "## Test with testing dataset"
      ]
    },
    {
      "cell_type": "code",
      "metadata": {
        "id": "1Xnfp3ANW2vR",
        "colab_type": "code",
        "colab": {}
      },
      "source": [
        "NewTesting=pd.read_csv('test.tsv',delimiter='\\t',encoding='utf-8',header=None)\n",
        "NewTesting.columns = ['ID', 'Date','Event'] #Assign header to dataframe\n",
        "NewTesting.head(10)\n"
      ],
      "execution_count": 0,
      "outputs": []
    },
    {
      "cell_type": "code",
      "metadata": {
        "id": "-8ey6-kMX1r9",
        "colab_type": "code",
        "colab": {}
      },
      "source": [
        "# Get a new test dataframe groupby ID\n",
        "GroupKey='ID'\n",
        "Date = 'Date'\n",
        "Event = 'Event'\n",
        "Event_Steps = ['EmailOpen','EmailClickthrough','FormSubmit','WebVist','PageView']\n",
        "\n",
        "def funnelize (group, Event_Steps):\n",
        "    curr = 0\n",
        "    cnts = [0 for s in Event_Steps]\n",
        " \n",
        "    for i,row in group.iterrows():\n",
        "        event = row[Event]\n",
        "        if event in Event_Steps:\n",
        "            idx = Event_Steps.index(event)\n",
        "            cnts[idx] +=1\n",
        "    return cnts\n",
        "\n",
        "NewTesting.sort_values(by=Date,ascending=True, inplace=True)\n",
        "Event_Cnts = NewTesting.groupby(GroupKey).apply(funnelize,Event_Steps)\n",
        "Testing = pd.DataFrame(list(Event_Cnts.values),index = Event_Cnts.index,columns = Event_Steps)\n",
        "Testing.head(10)\n",
        "Test = Testing.as_matrix()\n",
        "Test.shape"
      ],
      "execution_count": 0,
      "outputs": []
    },
    {
      "cell_type": "code",
      "metadata": {
        "id": "OIwlDf88YfD5",
        "colab_type": "code",
        "colab": {
          "base_uri": "https://localhost:8080/",
          "height": 450
        },
        "outputId": "1ea0cfc3-c8be-4f55-c1a9-391d0f5cf83e"
      },
      "source": [
        "\n",
        "output = xgb.predict(Test)\n",
        "output = xgb.predict_proba(Test)\n",
        "output = pd.DataFrame(output)\n",
        "Testing"
      ],
      "execution_count": 77,
      "outputs": [
        {
          "output_type": "execute_result",
          "data": {
            "text/html": [
              "<div>\n",
              "<style scoped>\n",
              "    .dataframe tbody tr th:only-of-type {\n",
              "        vertical-align: middle;\n",
              "    }\n",
              "\n",
              "    .dataframe tbody tr th {\n",
              "        vertical-align: top;\n",
              "    }\n",
              "\n",
              "    .dataframe thead th {\n",
              "        text-align: right;\n",
              "    }\n",
              "</style>\n",
              "<table border=\"1\" class=\"dataframe\">\n",
              "  <thead>\n",
              "    <tr style=\"text-align: right;\">\n",
              "      <th></th>\n",
              "      <th>EmailOpen</th>\n",
              "      <th>EmailClickthrough</th>\n",
              "      <th>FormSubmit</th>\n",
              "      <th>WebVist</th>\n",
              "      <th>PageView</th>\n",
              "    </tr>\n",
              "    <tr>\n",
              "      <th>ID</th>\n",
              "      <th></th>\n",
              "      <th></th>\n",
              "      <th></th>\n",
              "      <th></th>\n",
              "      <th></th>\n",
              "    </tr>\n",
              "  </thead>\n",
              "  <tbody>\n",
              "    <tr>\n",
              "      <th>0000ecf58c94668</th>\n",
              "      <td>5</td>\n",
              "      <td>0</td>\n",
              "      <td>0</td>\n",
              "      <td>0</td>\n",
              "      <td>0</td>\n",
              "    </tr>\n",
              "    <tr>\n",
              "      <th>000132f21724ee2</th>\n",
              "      <td>1</td>\n",
              "      <td>1</td>\n",
              "      <td>0</td>\n",
              "      <td>0</td>\n",
              "      <td>0</td>\n",
              "    </tr>\n",
              "    <tr>\n",
              "      <th>0001b315b991cf0</th>\n",
              "      <td>3</td>\n",
              "      <td>0</td>\n",
              "      <td>0</td>\n",
              "      <td>0</td>\n",
              "      <td>0</td>\n",
              "    </tr>\n",
              "    <tr>\n",
              "      <th>000269150971d08</th>\n",
              "      <td>4</td>\n",
              "      <td>0</td>\n",
              "      <td>0</td>\n",
              "      <td>0</td>\n",
              "      <td>0</td>\n",
              "    </tr>\n",
              "    <tr>\n",
              "      <th>000297ba4fa5026</th>\n",
              "      <td>3</td>\n",
              "      <td>0</td>\n",
              "      <td>0</td>\n",
              "      <td>0</td>\n",
              "      <td>0</td>\n",
              "    </tr>\n",
              "    <tr>\n",
              "      <th>...</th>\n",
              "      <td>...</td>\n",
              "      <td>...</td>\n",
              "      <td>...</td>\n",
              "      <td>...</td>\n",
              "      <td>...</td>\n",
              "    </tr>\n",
              "    <tr>\n",
              "      <th>fffc7f2ad169c6b</th>\n",
              "      <td>1</td>\n",
              "      <td>0</td>\n",
              "      <td>0</td>\n",
              "      <td>0</td>\n",
              "      <td>0</td>\n",
              "    </tr>\n",
              "    <tr>\n",
              "      <th>fffd77a0266d37c</th>\n",
              "      <td>3</td>\n",
              "      <td>0</td>\n",
              "      <td>1</td>\n",
              "      <td>0</td>\n",
              "      <td>1</td>\n",
              "    </tr>\n",
              "    <tr>\n",
              "      <th>fffed482b52afd8</th>\n",
              "      <td>1</td>\n",
              "      <td>0</td>\n",
              "      <td>0</td>\n",
              "      <td>0</td>\n",
              "      <td>0</td>\n",
              "    </tr>\n",
              "    <tr>\n",
              "      <th>ffffa4cc0190881</th>\n",
              "      <td>1</td>\n",
              "      <td>0</td>\n",
              "      <td>0</td>\n",
              "      <td>0</td>\n",
              "      <td>0</td>\n",
              "    </tr>\n",
              "    <tr>\n",
              "      <th>ffffecdd8dc6174</th>\n",
              "      <td>5</td>\n",
              "      <td>0</td>\n",
              "      <td>0</td>\n",
              "      <td>0</td>\n",
              "      <td>0</td>\n",
              "    </tr>\n",
              "  </tbody>\n",
              "</table>\n",
              "<p>132810 rows × 5 columns</p>\n",
              "</div>"
            ],
            "text/plain": [
              "                 EmailOpen  EmailClickthrough  FormSubmit  WebVist  PageView\n",
              "ID                                                                          \n",
              "0000ecf58c94668          5                  0           0        0         0\n",
              "000132f21724ee2          1                  1           0        0         0\n",
              "0001b315b991cf0          3                  0           0        0         0\n",
              "000269150971d08          4                  0           0        0         0\n",
              "000297ba4fa5026          3                  0           0        0         0\n",
              "...                    ...                ...         ...      ...       ...\n",
              "fffc7f2ad169c6b          1                  0           0        0         0\n",
              "fffd77a0266d37c          3                  0           1        0         1\n",
              "fffed482b52afd8          1                  0           0        0         0\n",
              "ffffa4cc0190881          1                  0           0        0         0\n",
              "ffffecdd8dc6174          5                  0           0        0         0\n",
              "\n",
              "[132810 rows x 5 columns]"
            ]
          },
          "metadata": {
            "tags": []
          },
          "execution_count": 77
        }
      ]
    },
    {
      "cell_type": "code",
      "metadata": {
        "id": "4od8dY63pLN4",
        "colab_type": "code",
        "colab": {
          "base_uri": "https://localhost:8080/",
          "height": 419
        },
        "outputId": "b3b00ec3-75e8-4305-8f9c-358cf15d3fc9"
      },
      "source": [
        "Testing['UserId'] = Testing.index\n",
        "Testing.index = range(132810)\n",
        "output.index = range(132810)\n",
        "list_of_users = pd.concat([Testing, output], axis=1)\n",
        "list_of_users"
      ],
      "execution_count": 78,
      "outputs": [
        {
          "output_type": "execute_result",
          "data": {
            "text/html": [
              "<div>\n",
              "<style scoped>\n",
              "    .dataframe tbody tr th:only-of-type {\n",
              "        vertical-align: middle;\n",
              "    }\n",
              "\n",
              "    .dataframe tbody tr th {\n",
              "        vertical-align: top;\n",
              "    }\n",
              "\n",
              "    .dataframe thead th {\n",
              "        text-align: right;\n",
              "    }\n",
              "</style>\n",
              "<table border=\"1\" class=\"dataframe\">\n",
              "  <thead>\n",
              "    <tr style=\"text-align: right;\">\n",
              "      <th></th>\n",
              "      <th>EmailOpen</th>\n",
              "      <th>EmailClickthrough</th>\n",
              "      <th>FormSubmit</th>\n",
              "      <th>WebVist</th>\n",
              "      <th>PageView</th>\n",
              "      <th>UserId</th>\n",
              "      <th>0</th>\n",
              "      <th>1</th>\n",
              "    </tr>\n",
              "  </thead>\n",
              "  <tbody>\n",
              "    <tr>\n",
              "      <th>0</th>\n",
              "      <td>5</td>\n",
              "      <td>0</td>\n",
              "      <td>0</td>\n",
              "      <td>0</td>\n",
              "      <td>0</td>\n",
              "      <td>0000ecf58c94668</td>\n",
              "      <td>0.902344</td>\n",
              "      <td>0.097656</td>\n",
              "    </tr>\n",
              "    <tr>\n",
              "      <th>1</th>\n",
              "      <td>1</td>\n",
              "      <td>1</td>\n",
              "      <td>0</td>\n",
              "      <td>0</td>\n",
              "      <td>0</td>\n",
              "      <td>000132f21724ee2</td>\n",
              "      <td>0.920900</td>\n",
              "      <td>0.079100</td>\n",
              "    </tr>\n",
              "    <tr>\n",
              "      <th>2</th>\n",
              "      <td>3</td>\n",
              "      <td>0</td>\n",
              "      <td>0</td>\n",
              "      <td>0</td>\n",
              "      <td>0</td>\n",
              "      <td>0001b315b991cf0</td>\n",
              "      <td>0.915639</td>\n",
              "      <td>0.084361</td>\n",
              "    </tr>\n",
              "    <tr>\n",
              "      <th>3</th>\n",
              "      <td>4</td>\n",
              "      <td>0</td>\n",
              "      <td>0</td>\n",
              "      <td>0</td>\n",
              "      <td>0</td>\n",
              "      <td>000269150971d08</td>\n",
              "      <td>0.908868</td>\n",
              "      <td>0.091132</td>\n",
              "    </tr>\n",
              "    <tr>\n",
              "      <th>4</th>\n",
              "      <td>3</td>\n",
              "      <td>0</td>\n",
              "      <td>0</td>\n",
              "      <td>0</td>\n",
              "      <td>0</td>\n",
              "      <td>000297ba4fa5026</td>\n",
              "      <td>0.915639</td>\n",
              "      <td>0.084361</td>\n",
              "    </tr>\n",
              "    <tr>\n",
              "      <th>...</th>\n",
              "      <td>...</td>\n",
              "      <td>...</td>\n",
              "      <td>...</td>\n",
              "      <td>...</td>\n",
              "      <td>...</td>\n",
              "      <td>...</td>\n",
              "      <td>...</td>\n",
              "      <td>...</td>\n",
              "    </tr>\n",
              "    <tr>\n",
              "      <th>132805</th>\n",
              "      <td>1</td>\n",
              "      <td>0</td>\n",
              "      <td>0</td>\n",
              "      <td>0</td>\n",
              "      <td>0</td>\n",
              "      <td>fffc7f2ad169c6b</td>\n",
              "      <td>0.938017</td>\n",
              "      <td>0.061983</td>\n",
              "    </tr>\n",
              "    <tr>\n",
              "      <th>132806</th>\n",
              "      <td>3</td>\n",
              "      <td>0</td>\n",
              "      <td>1</td>\n",
              "      <td>0</td>\n",
              "      <td>1</td>\n",
              "      <td>fffd77a0266d37c</td>\n",
              "      <td>0.854166</td>\n",
              "      <td>0.145834</td>\n",
              "    </tr>\n",
              "    <tr>\n",
              "      <th>132807</th>\n",
              "      <td>1</td>\n",
              "      <td>0</td>\n",
              "      <td>0</td>\n",
              "      <td>0</td>\n",
              "      <td>0</td>\n",
              "      <td>fffed482b52afd8</td>\n",
              "      <td>0.938017</td>\n",
              "      <td>0.061983</td>\n",
              "    </tr>\n",
              "    <tr>\n",
              "      <th>132808</th>\n",
              "      <td>1</td>\n",
              "      <td>0</td>\n",
              "      <td>0</td>\n",
              "      <td>0</td>\n",
              "      <td>0</td>\n",
              "      <td>ffffa4cc0190881</td>\n",
              "      <td>0.938017</td>\n",
              "      <td>0.061983</td>\n",
              "    </tr>\n",
              "    <tr>\n",
              "      <th>132809</th>\n",
              "      <td>5</td>\n",
              "      <td>0</td>\n",
              "      <td>0</td>\n",
              "      <td>0</td>\n",
              "      <td>0</td>\n",
              "      <td>ffffecdd8dc6174</td>\n",
              "      <td>0.902344</td>\n",
              "      <td>0.097656</td>\n",
              "    </tr>\n",
              "  </tbody>\n",
              "</table>\n",
              "<p>132810 rows × 8 columns</p>\n",
              "</div>"
            ],
            "text/plain": [
              "        EmailOpen  EmailClickthrough  ...         0         1\n",
              "0               5                  0  ...  0.902344  0.097656\n",
              "1               1                  1  ...  0.920900  0.079100\n",
              "2               3                  0  ...  0.915639  0.084361\n",
              "3               4                  0  ...  0.908868  0.091132\n",
              "4               3                  0  ...  0.915639  0.084361\n",
              "...           ...                ...  ...       ...       ...\n",
              "132805          1                  0  ...  0.938017  0.061983\n",
              "132806          3                  0  ...  0.854166  0.145834\n",
              "132807          1                  0  ...  0.938017  0.061983\n",
              "132808          1                  0  ...  0.938017  0.061983\n",
              "132809          5                  0  ...  0.902344  0.097656\n",
              "\n",
              "[132810 rows x 8 columns]"
            ]
          },
          "metadata": {
            "tags": []
          },
          "execution_count": 78
        }
      ]
    },
    {
      "cell_type": "code",
      "metadata": {
        "id": "e3dOgFYErbuV",
        "colab_type": "code",
        "colab": {
          "base_uri": "https://localhost:8080/",
          "height": 359
        },
        "outputId": "f54cf290-4813-4a82-a395-edf46ad7a116"
      },
      "source": [
        "list_of_users.columns = ['EmailOpen','EmailClickthrough','FormSubmit','WebVist','PageView','UserId','No','Yes']\n",
        "Yes = 'Yes'\n",
        "list_output = list_of_users.sort_values(by=Yes,ascending = False)\n",
        "Top1000 = list_output.nlargest(1000, 'Yes')[['UserId','Yes']]\n",
        "Top1000.head(10)"
      ],
      "execution_count": 84,
      "outputs": [
        {
          "output_type": "execute_result",
          "data": {
            "text/html": [
              "<div>\n",
              "<style scoped>\n",
              "    .dataframe tbody tr th:only-of-type {\n",
              "        vertical-align: middle;\n",
              "    }\n",
              "\n",
              "    .dataframe tbody tr th {\n",
              "        vertical-align: top;\n",
              "    }\n",
              "\n",
              "    .dataframe thead th {\n",
              "        text-align: right;\n",
              "    }\n",
              "</style>\n",
              "<table border=\"1\" class=\"dataframe\">\n",
              "  <thead>\n",
              "    <tr style=\"text-align: right;\">\n",
              "      <th></th>\n",
              "      <th>UserId</th>\n",
              "      <th>Yes</th>\n",
              "    </tr>\n",
              "  </thead>\n",
              "  <tbody>\n",
              "    <tr>\n",
              "      <th>114567</th>\n",
              "      <td>d6a142cf06f209a</td>\n",
              "      <td>0.995611</td>\n",
              "    </tr>\n",
              "    <tr>\n",
              "      <th>27157</th>\n",
              "      <td>2c2c4af11b62946</td>\n",
              "      <td>0.995611</td>\n",
              "    </tr>\n",
              "    <tr>\n",
              "      <th>1137</th>\n",
              "      <td>01e3f460ec72931</td>\n",
              "      <td>0.844166</td>\n",
              "    </tr>\n",
              "    <tr>\n",
              "      <th>46361</th>\n",
              "      <td>4e60f7627584004</td>\n",
              "      <td>0.832700</td>\n",
              "    </tr>\n",
              "    <tr>\n",
              "      <th>34416</th>\n",
              "      <td>393e035c9a2e62d</td>\n",
              "      <td>0.831024</td>\n",
              "    </tr>\n",
              "    <tr>\n",
              "      <th>27731</th>\n",
              "      <td>2d3bdebaab963c1</td>\n",
              "      <td>0.831024</td>\n",
              "    </tr>\n",
              "    <tr>\n",
              "      <th>107505</th>\n",
              "      <td>c732cc10ee2a3e4</td>\n",
              "      <td>0.829352</td>\n",
              "    </tr>\n",
              "    <tr>\n",
              "      <th>96166</th>\n",
              "      <td>af9682d336d651e</td>\n",
              "      <td>0.829352</td>\n",
              "    </tr>\n",
              "    <tr>\n",
              "      <th>9390</th>\n",
              "      <td>0ec78db2c7be600</td>\n",
              "      <td>0.829352</td>\n",
              "    </tr>\n",
              "    <tr>\n",
              "      <th>17525</th>\n",
              "      <td>1c25b3c5930bad8</td>\n",
              "      <td>0.829352</td>\n",
              "    </tr>\n",
              "  </tbody>\n",
              "</table>\n",
              "</div>"
            ],
            "text/plain": [
              "                 UserId       Yes\n",
              "114567  d6a142cf06f209a  0.995611\n",
              "27157   2c2c4af11b62946  0.995611\n",
              "1137    01e3f460ec72931  0.844166\n",
              "46361   4e60f7627584004  0.832700\n",
              "34416   393e035c9a2e62d  0.831024\n",
              "27731   2d3bdebaab963c1  0.831024\n",
              "107505  c732cc10ee2a3e4  0.829352\n",
              "96166   af9682d336d651e  0.829352\n",
              "9390    0ec78db2c7be600  0.829352\n",
              "17525   1c25b3c5930bad8  0.829352"
            ]
          },
          "metadata": {
            "tags": []
          },
          "execution_count": 84
        }
      ]
    },
    {
      "cell_type": "markdown",
      "metadata": {
        "id": "-d8xcAo6u9WN",
        "colab_type": "text"
      },
      "source": [
        "## Top 1000 users list"
      ]
    },
    {
      "cell_type": "code",
      "metadata": {
        "id": "XwIsXOBOtd1z",
        "colab_type": "code",
        "colab": {}
      },
      "source": [
        "Top1000.to_csv(\"Top_1000.csv\")"
      ],
      "execution_count": 0,
      "outputs": []
    }
  ]
}
